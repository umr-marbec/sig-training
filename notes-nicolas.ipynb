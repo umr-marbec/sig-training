version https://git-lfs.github.com/spec/v1
oid sha256:acc396d96b911f43a527302a0a4617f61e2515df420b51759ea02e84fbed4d39
size 214942994
